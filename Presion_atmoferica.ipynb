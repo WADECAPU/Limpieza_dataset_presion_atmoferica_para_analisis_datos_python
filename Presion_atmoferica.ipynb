{
 "cells": [
  {
   "cell_type": "code",
   "execution_count": 1,
   "id": "5cddfc5d",
   "metadata": {},
   "outputs": [],
   "source": [
    "import pandas as pd \n",
    "import numpy as np"
   ]
  },
  {
   "cell_type": "code",
   "execution_count": 25,
   "id": "a1755109",
   "metadata": {},
   "outputs": [
    {
     "data": {
      "text/html": [
       "<div>\n",
       "<style scoped>\n",
       "    .dataframe tbody tr th:only-of-type {\n",
       "        vertical-align: middle;\n",
       "    }\n",
       "\n",
       "    .dataframe tbody tr th {\n",
       "        vertical-align: top;\n",
       "    }\n",
       "\n",
       "    .dataframe thead th {\n",
       "        text-align: right;\n",
       "    }\n",
       "</style>\n",
       "<table border=\"1\" class=\"dataframe\">\n",
       "  <thead>\n",
       "    <tr style=\"text-align: right;\">\n",
       "      <th></th>\n",
       "      <th>CodigoEstacion</th>\n",
       "      <th>CodigoSensor</th>\n",
       "      <th>FechaObservacion</th>\n",
       "      <th>ValorObservado</th>\n",
       "      <th>NombreEstacion</th>\n",
       "      <th>Departamento</th>\n",
       "      <th>Municipio</th>\n",
       "      <th>ZonaHidrografica</th>\n",
       "      <th>Latitud</th>\n",
       "      <th>Longitud</th>\n",
       "      <th>DescripcionSensor</th>\n",
       "      <th>UnidadMedida</th>\n",
       "      <th>Año</th>\n",
       "    </tr>\n",
       "  </thead>\n",
       "  <tbody>\n",
       "    <tr>\n",
       "      <th>14350546</th>\n",
       "      <td>48015040</td>\n",
       "      <td>255.0</td>\n",
       "      <td>01/01/2021 07:31:00 AM</td>\n",
       "      <td>1001.0</td>\n",
       "      <td>PTO NARIÑO</td>\n",
       "      <td>AMAZONAS</td>\n",
       "      <td>PUERTO NARIÑO</td>\n",
       "      <td>AMAZONAS - DIRECTOS</td>\n",
       "      <td>-3.780000</td>\n",
       "      <td>-70.363000</td>\n",
       "      <td>Presión Atmosferica (1h)</td>\n",
       "      <td>HPa</td>\n",
       "      <td>2021</td>\n",
       "    </tr>\n",
       "    <tr>\n",
       "      <th>14350547</th>\n",
       "      <td>24010390</td>\n",
       "      <td>255.0</td>\n",
       "      <td>01/01/2021 07:00:00 PM</td>\n",
       "      <td>726.0</td>\n",
       "      <td>El TRIANGULO - CAR</td>\n",
       "      <td>CUNDINAMARCA</td>\n",
       "      <td>LENGUAZAQUE</td>\n",
       "      <td>SOGAMOSO</td>\n",
       "      <td>5.305000</td>\n",
       "      <td>-73.619000</td>\n",
       "      <td>Presión Atmosferica (1h)</td>\n",
       "      <td>HPa</td>\n",
       "      <td>2021</td>\n",
       "    </tr>\n",
       "    <tr>\n",
       "      <th>14350548</th>\n",
       "      <td>24055080</td>\n",
       "      <td>255.0</td>\n",
       "      <td>01/01/2021 01:00:00 PM</td>\n",
       "      <td>998.6</td>\n",
       "      <td>VIZCAINA LA LIZAMA  - AUT</td>\n",
       "      <td>SANTANDER</td>\n",
       "      <td>BARRANCABERMEJA</td>\n",
       "      <td>SOGAMOSO</td>\n",
       "      <td>6.982972</td>\n",
       "      <td>-73.704889</td>\n",
       "      <td>Presión Atmosferica (1h)</td>\n",
       "      <td>HPa</td>\n",
       "      <td>2021</td>\n",
       "    </tr>\n",
       "    <tr>\n",
       "      <th>14350549</th>\n",
       "      <td>24015506</td>\n",
       "      <td>255.0</td>\n",
       "      <td>01/01/2021 08:00:00 AM</td>\n",
       "      <td>754.0</td>\n",
       "      <td>CAPELLANIA - CAR</td>\n",
       "      <td>CUNDINAMARCA</td>\n",
       "      <td>FÚQUENE</td>\n",
       "      <td>SOGAMOSO</td>\n",
       "      <td>5.449000</td>\n",
       "      <td>-73.769000</td>\n",
       "      <td>Presión Atmosferica (1h)</td>\n",
       "      <td>HPa</td>\n",
       "      <td>2021</td>\n",
       "    </tr>\n",
       "    <tr>\n",
       "      <th>14350550</th>\n",
       "      <td>48015040</td>\n",
       "      <td>255.0</td>\n",
       "      <td>01/01/2021 07:48:00 AM</td>\n",
       "      <td>1000.9</td>\n",
       "      <td>PTO NARIÑO</td>\n",
       "      <td>AMAZONAS</td>\n",
       "      <td>PUERTO NARIÑO</td>\n",
       "      <td>AMAZONAS - DIRECTOS</td>\n",
       "      <td>-3.780000</td>\n",
       "      <td>-70.363000</td>\n",
       "      <td>Presión Atmosferica (1h)</td>\n",
       "      <td>HPa</td>\n",
       "      <td>2021</td>\n",
       "    </tr>\n",
       "  </tbody>\n",
       "</table>\n",
       "</div>"
      ],
      "text/plain": [
       "          CodigoEstacion  CodigoSensor        FechaObservacion  \\\n",
       "14350546        48015040         255.0  01/01/2021 07:31:00 AM   \n",
       "14350547        24010390         255.0  01/01/2021 07:00:00 PM   \n",
       "14350548        24055080         255.0  01/01/2021 01:00:00 PM   \n",
       "14350549        24015506         255.0  01/01/2021 08:00:00 AM   \n",
       "14350550        48015040         255.0  01/01/2021 07:48:00 AM   \n",
       "\n",
       "          ValorObservado             NombreEstacion  Departamento  \\\n",
       "14350546          1001.0                 PTO NARIÑO      AMAZONAS   \n",
       "14350547           726.0         El TRIANGULO - CAR  CUNDINAMARCA   \n",
       "14350548           998.6  VIZCAINA LA LIZAMA  - AUT     SANTANDER   \n",
       "14350549           754.0           CAPELLANIA - CAR  CUNDINAMARCA   \n",
       "14350550          1000.9                 PTO NARIÑO      AMAZONAS   \n",
       "\n",
       "                Municipio     ZonaHidrografica   Latitud   Longitud  \\\n",
       "14350546    PUERTO NARIÑO  AMAZONAS - DIRECTOS -3.780000 -70.363000   \n",
       "14350547      LENGUAZAQUE             SOGAMOSO  5.305000 -73.619000   \n",
       "14350548  BARRANCABERMEJA             SOGAMOSO  6.982972 -73.704889   \n",
       "14350549          FÚQUENE             SOGAMOSO  5.449000 -73.769000   \n",
       "14350550    PUERTO NARIÑO  AMAZONAS - DIRECTOS -3.780000 -70.363000   \n",
       "\n",
       "                 DescripcionSensor UnidadMedida   Año  \n",
       "14350546  Presión Atmosferica (1h)          HPa  2021  \n",
       "14350547  Presión Atmosferica (1h)          HPa  2021  \n",
       "14350548  Presión Atmosferica (1h)          HPa  2021  \n",
       "14350549  Presión Atmosferica (1h)          HPa  2021  \n",
       "14350550  Presión Atmosferica (1h)          HPa  2021  "
      ]
     },
     "execution_count": 25,
     "metadata": {},
     "output_type": "execute_result"
    }
   ],
   "source": [
    "# Lectura del archivo\n",
    "df_pat = pd.read_csv('Presi_n_Atmosf_rica_2021.csv', index_col = 0)\n",
    "pd.set_option('display.max_colwidth', None)\n",
    "pd.set_option('display.max_rows', None)\n",
    "df_pat.head()"
   ]
  },
  {
   "cell_type": "code",
   "execution_count": 3,
   "id": "4e284c63",
   "metadata": {},
   "outputs": [
    {
     "data": {
      "text/plain": [
       "(403439, 13)"
      ]
     },
     "execution_count": 3,
     "metadata": {},
     "output_type": "execute_result"
    }
   ],
   "source": [
    "df_pat.shape"
   ]
  },
  {
   "cell_type": "markdown",
   "id": "daacf16c",
   "metadata": {},
   "source": [
    "## Revision de los valores de cada columnas"
   ]
  },
  {
   "cell_type": "code",
   "execution_count": 4,
   "id": "2c5f92b9",
   "metadata": {},
   "outputs": [
    {
     "data": {
      "text/plain": [
       "Index(['CodigoEstacion', 'CodigoSensor', 'FechaObservacion', 'ValorObservado',\n",
       "       'NombreEstacion', 'Departamento', 'Municipio', 'ZonaHidrografica',\n",
       "       'Latitud', 'Longitud', 'DescripcionSensor', 'UnidadMedida', 'Año'],\n",
       "      dtype='object')"
      ]
     },
     "execution_count": 4,
     "metadata": {},
     "output_type": "execute_result"
    }
   ],
   "source": [
    "df_pat.columns"
   ]
  },
  {
   "cell_type": "markdown",
   "id": "329b5f04",
   "metadata": {},
   "source": [
    "## Transformamos la columna FechaObservacion a tipo fecha"
   ]
  },
  {
   "cell_type": "code",
   "execution_count": 9,
   "id": "fa5bfa84",
   "metadata": {},
   "outputs": [],
   "source": [
    "# Cogemos la columna donde esta la fecha, usamos pandas para usar la funcion de transformacion de fecha y le damos formato\n",
    "df_pat['FechaObservacion'] = pd.to_datetime(df_pat['FechaObservacion'], format='%d/%m/%Y %I:%M:%S %p', errors='coerce')\n",
    "# Ahora le inciadmos un subconjunto con que trabajeremos y me diga si hay valores NaN y al final hacemos el cambio al dataframe\n",
    "df_pat.dropna(subset=['FechaObservacion'], inplace=True)\n"
   ]
  },
  {
   "cell_type": "markdown",
   "id": "fae5780e",
   "metadata": {},
   "source": [
    "## Creamos una nueva columna que almacenara los meses"
   ]
  },
  {
   "cell_type": "code",
   "execution_count": 11,
   "id": "48325091",
   "metadata": {},
   "outputs": [],
   "source": [
    "# Extraer el mes de cada fecha y almacenarlo en una nueva columna \"Mes\"\n",
    "df_pat['Mes'] = df_pat['FechaObservacion'].dt.month"
   ]
  },
  {
   "cell_type": "code",
   "execution_count": 12,
   "id": "6d62bb21",
   "metadata": {
    "scrolled": true
   },
   "outputs": [
    {
     "data": {
      "text/html": [
       "<div>\n",
       "<style scoped>\n",
       "    .dataframe tbody tr th:only-of-type {\n",
       "        vertical-align: middle;\n",
       "    }\n",
       "\n",
       "    .dataframe tbody tr th {\n",
       "        vertical-align: top;\n",
       "    }\n",
       "\n",
       "    .dataframe thead th {\n",
       "        text-align: right;\n",
       "    }\n",
       "</style>\n",
       "<table border=\"1\" class=\"dataframe\">\n",
       "  <thead>\n",
       "    <tr style=\"text-align: right;\">\n",
       "      <th></th>\n",
       "      <th>CodigoEstacion</th>\n",
       "      <th>CodigoSensor</th>\n",
       "      <th>FechaObservacion</th>\n",
       "      <th>ValorObservado</th>\n",
       "      <th>NombreEstacion</th>\n",
       "      <th>Departamento</th>\n",
       "      <th>Municipio</th>\n",
       "      <th>ZonaHidrografica</th>\n",
       "      <th>Latitud</th>\n",
       "      <th>Longitud</th>\n",
       "      <th>DescripcionSensor</th>\n",
       "      <th>UnidadMedida</th>\n",
       "      <th>Año</th>\n",
       "      <th>Mes</th>\n",
       "    </tr>\n",
       "  </thead>\n",
       "  <tbody>\n",
       "    <tr>\n",
       "      <th>14350546</th>\n",
       "      <td>48015040</td>\n",
       "      <td>255.0</td>\n",
       "      <td>2021-01-01 07:31:00</td>\n",
       "      <td>1001.0</td>\n",
       "      <td>PTO NARIÑO</td>\n",
       "      <td>AMAZONAS</td>\n",
       "      <td>PUERTO NARIÑO</td>\n",
       "      <td>AMAZONAS - DIRECTOS</td>\n",
       "      <td>-3.780000</td>\n",
       "      <td>-70.363000</td>\n",
       "      <td>Presión Atmosferica (1h)</td>\n",
       "      <td>HPa</td>\n",
       "      <td>2021</td>\n",
       "      <td>1</td>\n",
       "    </tr>\n",
       "    <tr>\n",
       "      <th>14350547</th>\n",
       "      <td>24010390</td>\n",
       "      <td>255.0</td>\n",
       "      <td>2021-01-01 19:00:00</td>\n",
       "      <td>726.0</td>\n",
       "      <td>El TRIANGULO - CAR</td>\n",
       "      <td>CUNDINAMARCA</td>\n",
       "      <td>LENGUAZAQUE</td>\n",
       "      <td>SOGAMOSO</td>\n",
       "      <td>5.305000</td>\n",
       "      <td>-73.619000</td>\n",
       "      <td>Presión Atmosferica (1h)</td>\n",
       "      <td>HPa</td>\n",
       "      <td>2021</td>\n",
       "      <td>1</td>\n",
       "    </tr>\n",
       "    <tr>\n",
       "      <th>14350548</th>\n",
       "      <td>24055080</td>\n",
       "      <td>255.0</td>\n",
       "      <td>2021-01-01 13:00:00</td>\n",
       "      <td>998.6</td>\n",
       "      <td>VIZCAINA LA LIZAMA  - AUT</td>\n",
       "      <td>SANTANDER</td>\n",
       "      <td>BARRANCABERMEJA</td>\n",
       "      <td>SOGAMOSO</td>\n",
       "      <td>6.982972</td>\n",
       "      <td>-73.704889</td>\n",
       "      <td>Presión Atmosferica (1h)</td>\n",
       "      <td>HPa</td>\n",
       "      <td>2021</td>\n",
       "      <td>1</td>\n",
       "    </tr>\n",
       "    <tr>\n",
       "      <th>14350549</th>\n",
       "      <td>24015506</td>\n",
       "      <td>255.0</td>\n",
       "      <td>2021-01-01 08:00:00</td>\n",
       "      <td>754.0</td>\n",
       "      <td>CAPELLANIA - CAR</td>\n",
       "      <td>CUNDINAMARCA</td>\n",
       "      <td>FÚQUENE</td>\n",
       "      <td>SOGAMOSO</td>\n",
       "      <td>5.449000</td>\n",
       "      <td>-73.769000</td>\n",
       "      <td>Presión Atmosferica (1h)</td>\n",
       "      <td>HPa</td>\n",
       "      <td>2021</td>\n",
       "      <td>1</td>\n",
       "    </tr>\n",
       "    <tr>\n",
       "      <th>14350550</th>\n",
       "      <td>48015040</td>\n",
       "      <td>255.0</td>\n",
       "      <td>2021-01-01 07:48:00</td>\n",
       "      <td>1000.9</td>\n",
       "      <td>PTO NARIÑO</td>\n",
       "      <td>AMAZONAS</td>\n",
       "      <td>PUERTO NARIÑO</td>\n",
       "      <td>AMAZONAS - DIRECTOS</td>\n",
       "      <td>-3.780000</td>\n",
       "      <td>-70.363000</td>\n",
       "      <td>Presión Atmosferica (1h)</td>\n",
       "      <td>HPa</td>\n",
       "      <td>2021</td>\n",
       "      <td>1</td>\n",
       "    </tr>\n",
       "  </tbody>\n",
       "</table>\n",
       "</div>"
      ],
      "text/plain": [
       "          CodigoEstacion  CodigoSensor    FechaObservacion  ValorObservado  \\\n",
       "14350546        48015040         255.0 2021-01-01 07:31:00          1001.0   \n",
       "14350547        24010390         255.0 2021-01-01 19:00:00           726.0   \n",
       "14350548        24055080         255.0 2021-01-01 13:00:00           998.6   \n",
       "14350549        24015506         255.0 2021-01-01 08:00:00           754.0   \n",
       "14350550        48015040         255.0 2021-01-01 07:48:00          1000.9   \n",
       "\n",
       "                     NombreEstacion  Departamento        Municipio  \\\n",
       "14350546                 PTO NARIÑO      AMAZONAS    PUERTO NARIÑO   \n",
       "14350547         El TRIANGULO - CAR  CUNDINAMARCA      LENGUAZAQUE   \n",
       "14350548  VIZCAINA LA LIZAMA  - AUT     SANTANDER  BARRANCABERMEJA   \n",
       "14350549           CAPELLANIA - CAR  CUNDINAMARCA          FÚQUENE   \n",
       "14350550                 PTO NARIÑO      AMAZONAS    PUERTO NARIÑO   \n",
       "\n",
       "             ZonaHidrografica   Latitud   Longitud         DescripcionSensor  \\\n",
       "14350546  AMAZONAS - DIRECTOS -3.780000 -70.363000  Presión Atmosferica (1h)   \n",
       "14350547             SOGAMOSO  5.305000 -73.619000  Presión Atmosferica (1h)   \n",
       "14350548             SOGAMOSO  6.982972 -73.704889  Presión Atmosferica (1h)   \n",
       "14350549             SOGAMOSO  5.449000 -73.769000  Presión Atmosferica (1h)   \n",
       "14350550  AMAZONAS - DIRECTOS -3.780000 -70.363000  Presión Atmosferica (1h)   \n",
       "\n",
       "         UnidadMedida   Año  Mes  \n",
       "14350546          HPa  2021    1  \n",
       "14350547          HPa  2021    1  \n",
       "14350548          HPa  2021    1  \n",
       "14350549          HPa  2021    1  \n",
       "14350550          HPa  2021    1  "
      ]
     },
     "execution_count": 12,
     "metadata": {},
     "output_type": "execute_result"
    }
   ],
   "source": [
    "df_pat.head()"
   ]
  },
  {
   "cell_type": "markdown",
   "id": "dc2e3c79",
   "metadata": {},
   "source": [
    "## Ahora revisamos las columnas para byscar valores identicos y NaN"
   ]
  },
  {
   "cell_type": "code",
   "execution_count": 13,
   "id": "0a8bcb9e",
   "metadata": {},
   "outputs": [
    {
     "data": {
      "text/plain": [
       "Index(['CodigoEstacion', 'CodigoSensor', 'FechaObservacion', 'ValorObservado',\n",
       "       'NombreEstacion', 'Departamento', 'Municipio', 'ZonaHidrografica',\n",
       "       'Latitud', 'Longitud', 'DescripcionSensor', 'UnidadMedida', 'Año',\n",
       "       'Mes'],\n",
       "      dtype='object')"
      ]
     },
     "execution_count": 13,
     "metadata": {},
     "output_type": "execute_result"
    }
   ],
   "source": [
    "df_pat.columns"
   ]
  },
  {
   "cell_type": "markdown",
   "id": "74e5843a",
   "metadata": {},
   "source": [
    "### Departamento"
   ]
  },
  {
   "cell_type": "code",
   "execution_count": 15,
   "id": "ec5865f2",
   "metadata": {},
   "outputs": [
    {
     "data": {
      "text/plain": [
       "AMAZONAS                  42146\n",
       "CUNDINAMARCA              35130\n",
       "BOYACÁ                    11175\n",
       "SANTANDER                  9948\n",
       "BOGOTA                     8364\n",
       "BOLIVAR                    3194\n",
       "NORTE DE SANTANDER         2546\n",
       "TOLIMA                     2360\n",
       "CASANARE                   2320\n",
       "CHOCÓ                      2259\n",
       "VALLE DEL CAUCA            2256\n",
       "CALDAS                     2083\n",
       "ARAUCA                     2039\n",
       "HUILA                      1955\n",
       "SUCRE                      1884\n",
       "ANTIOQUIA                  1810\n",
       "MAGDALENA                  1744\n",
       "META                       1670\n",
       "RISARALDA                  1650\n",
       "LA GUAJIRA                 1338\n",
       "CORDOBA                    1305\n",
       "CÓRDOBA                    1276\n",
       "ATLANTICO                   746\n",
       "CESAR                       740\n",
       "CHOCO                       730\n",
       "CAQUETA                     646\n",
       "QUINDÍO                     576\n",
       "BOGOTA D.C.                 557\n",
       "NARIÑO                      556\n",
       "SAN ANDRÉS PROVIDENCIA      388\n",
       "NARINO                      325\n",
       "CAUCA                       240\n",
       "ATLÁNTICO                    34\n",
       "Name: Departamento, dtype: int64"
      ]
     },
     "execution_count": 15,
     "metadata": {},
     "output_type": "execute_result"
    }
   ],
   "source": [
    "# Columna Departamento\n",
    "df_pat.Departamento.value_counts()"
   ]
  },
  {
   "cell_type": "raw",
   "id": "53ea22b4",
   "metadata": {},
   "source": [
    "Podemos observar que cuando accedemos a la informacion de la Columna Departamento, nos salen algunos valores \"repetidos\" o \"similares\" como en el Caso de BOGOTA y BOGOTA D.C, y entre otros más, debemos hacer que esos espacios dobles que ocupa el dataframe se reduzcan a 1 con cada nombre que es \"similar\" y ya que esos valores pertencen al mismo ligar"
   ]
  },
  {
   "cell_type": "code",
   "execution_count": 16,
   "id": "d5a6462a",
   "metadata": {},
   "outputs": [],
   "source": [
    "# Creacion de diccionario para reemplazar valores\n",
    "# Las llaves de los diccionarios seran los valores que vamos a quitar y los valores seran los que se quedaran\n",
    "reemplazos = {\n",
    "    'BOGOTA': 'BOGOTA D.C.',\n",
    "    'CHOCO': 'CHOCÓ',\n",
    "    'CORDOBA': 'CÓRDOBA',\n",
    "    'ATLANTICO': 'ATLÁNTICO',\n",
    "    'NARINO' : 'NARIÑO'\n",
    "}"
   ]
  },
  {
   "cell_type": "code",
   "execution_count": 17,
   "id": "2e5d810c",
   "metadata": {},
   "outputs": [],
   "source": [
    "# Entramos a la columna del dataframe e indicamos los valores a reemplazar mediante la funcion replace\n",
    "df_pat['Departamento'] = df_pat['Departamento'].replace(reemplazos)"
   ]
  },
  {
   "cell_type": "code",
   "execution_count": 18,
   "id": "90c8ab5b",
   "metadata": {},
   "outputs": [
    {
     "data": {
      "text/plain": [
       "AMAZONAS                  42146\n",
       "CUNDINAMARCA              35130\n",
       "BOYACÁ                    11175\n",
       "SANTANDER                  9948\n",
       "BOGOTA D.C.                8921\n",
       "BOLIVAR                    3194\n",
       "CHOCÓ                      2989\n",
       "CÓRDOBA                    2581\n",
       "NORTE DE SANTANDER         2546\n",
       "TOLIMA                     2360\n",
       "CASANARE                   2320\n",
       "VALLE DEL CAUCA            2256\n",
       "CALDAS                     2083\n",
       "ARAUCA                     2039\n",
       "HUILA                      1955\n",
       "SUCRE                      1884\n",
       "ANTIOQUIA                  1810\n",
       "MAGDALENA                  1744\n",
       "META                       1670\n",
       "RISARALDA                  1650\n",
       "LA GUAJIRA                 1338\n",
       "NARIÑO                      881\n",
       "ATLÁNTICO                   780\n",
       "CESAR                       740\n",
       "CAQUETA                     646\n",
       "QUINDÍO                     576\n",
       "SAN ANDRÉS PROVIDENCIA      388\n",
       "CAUCA                       240\n",
       "Name: Departamento, dtype: int64"
      ]
     },
     "execution_count": 18,
     "metadata": {},
     "output_type": "execute_result"
    }
   ],
   "source": [
    "df_pat.Departamento.value_counts()"
   ]
  },
  {
   "cell_type": "code",
   "execution_count": 19,
   "id": "9479ec3c",
   "metadata": {},
   "outputs": [
    {
     "data": {
      "text/html": [
       "<div>\n",
       "<style scoped>\n",
       "    .dataframe tbody tr th:only-of-type {\n",
       "        vertical-align: middle;\n",
       "    }\n",
       "\n",
       "    .dataframe tbody tr th {\n",
       "        vertical-align: top;\n",
       "    }\n",
       "\n",
       "    .dataframe thead th {\n",
       "        text-align: right;\n",
       "    }\n",
       "</style>\n",
       "<table border=\"1\" class=\"dataframe\">\n",
       "  <thead>\n",
       "    <tr style=\"text-align: right;\">\n",
       "      <th></th>\n",
       "      <th>CodigoEstacion</th>\n",
       "      <th>CodigoSensor</th>\n",
       "      <th>FechaObservacion</th>\n",
       "      <th>ValorObservado</th>\n",
       "      <th>NombreEstacion</th>\n",
       "      <th>Departamento</th>\n",
       "      <th>Municipio</th>\n",
       "      <th>ZonaHidrografica</th>\n",
       "      <th>Latitud</th>\n",
       "      <th>Longitud</th>\n",
       "      <th>DescripcionSensor</th>\n",
       "      <th>UnidadMedida</th>\n",
       "      <th>Año</th>\n",
       "      <th>Mes</th>\n",
       "    </tr>\n",
       "  </thead>\n",
       "  <tbody>\n",
       "  </tbody>\n",
       "</table>\n",
       "</div>"
      ],
      "text/plain": [
       "Empty DataFrame\n",
       "Columns: [CodigoEstacion, CodigoSensor, FechaObservacion, ValorObservado, NombreEstacion, Departamento, Municipio, ZonaHidrografica, Latitud, Longitud, DescripcionSensor, UnidadMedida, Año, Mes]\n",
       "Index: []"
      ]
     },
     "execution_count": 19,
     "metadata": {},
     "output_type": "execute_result"
    }
   ],
   "source": [
    "# Verificacion si existe o no e departamento dentro de la columna\n",
    "valores_atlantico = df_pat[df_pat['Departamento'] == 'ATLANTICO']\n",
    "valores_atlantico"
   ]
  },
  {
   "cell_type": "markdown",
   "id": "2fc4c22b",
   "metadata": {},
   "source": [
    "### NomvreEstacion"
   ]
  },
  {
   "cell_type": "code",
   "execution_count": 5,
   "id": "0d6abaa4",
   "metadata": {
    "scrolled": true
   },
   "outputs": [
    {
     "data": {
      "text/plain": [
       "403439"
      ]
     },
     "execution_count": 5,
     "metadata": {},
     "output_type": "execute_result"
    }
   ],
   "source": [
    "df_pat.NombreEstacion.value_counts().sum()"
   ]
  },
  {
   "cell_type": "code",
   "execution_count": 7,
   "id": "f94277f8",
   "metadata": {},
   "outputs": [
    {
     "data": {
      "text/plain": [
       "array(['PTO NARIÑO', 'El TRIANGULO - CAR', 'VIZCAINA LA LIZAMA  - AUT',\n",
       "       'CAPELLANIA - CAR', 'SINCERIN  - AUT', 'RAQUIRA - CAR',\n",
       "       'APTO OLAYA HERRERA - TX GPRS', 'CACHIPAY - CAR', 'AYAPEL',\n",
       "       'PR CHOCO: APTO EL CARANO', 'BERLIN - AUT',\n",
       "       'CHARALA - ISAGEN - Estacion en Pruebas', 'PARAMO GUERRERO  - AUT',\n",
       "       'CARIMAGUA', 'AEROPUERTO LAS FLORES  - AUT',\n",
       "       'APTO EL DORADO - TX GPRS', 'PERENCO: TAMARA',\n",
       "       'ESCUELA NAVAL BARRANQUILLA  - AUT',\n",
       "       'APTO ERNESTO CORTIZOS TX GPRS', 'VIANI - CAR', 'NEOMUNDO - AUT',\n",
       "       'CARDON EL', 'PR CHOCO: CERTEGUI', 'EL HATO - CAR', 'EL TUNEL',\n",
       "       'PARAMO ALMORZADERO  - AUT', 'PUERTA ROJA - AUT',\n",
       "       'APTO SESQUICENTENARIO TX GPRS', 'PERENCO: TOQUILLA',\n",
       "       'APTO MATECAÑA TX GPS/GOES', 'APTO ALMIRANTE PADILLA TX GPRS',\n",
       "       'EL GUAMO - AUT', 'SAN MARCOS - AUT', 'AEROPUERTO SAN LUIS - AUT',\n",
       "       'SAN  VICENTE DE CHUCURI  - AUT', 'PR CHOCO: BELLAVISTA',\n",
       "       'GUAMAL - CAR', 'SAN BENITO ABAD - LA MOJANA TX GPRS/GOES',\n",
       "       'LA MINA CERREJON  - AUT', 'APTO ALFONSO LOPEZ', 'PERENCO: PISBA',\n",
       "       'APTO CAMILO DAZA', 'LAGUNA DE LA PLAZA', 'AGUAS CLARAS - CAR',\n",
       "       'CAPARRAPI - CAR', 'APTO J.M CORDOVA TX GPRS',\n",
       "       'AEROPUERTO VASQUEZ COBO', 'EL DIAMANTE - AUT',\n",
       "       'APTO ALFONSO BONILLA ARAGON - TX GPRS', 'APTO PALONEGRO',\n",
       "       'GRANJA MIRA', 'AEROPUERTO RAFAEL NUNEZ', 'TUNGUAVITA - AUT',\n",
       "       'APTO LOS GARZONES', 'PR CHOCO: PANAMERICANA', 'MEDIA LUNA - AUT',\n",
       "       'PTAR TOCANCIPA - CAR', 'EL DELIRIO- CAR',\n",
       "       'PR CHOCO: SAN JOSE PALMAR', 'APTO YOPAL', 'EL DIFICIL - AUT',\n",
       "       'AEROPUERTO A LLERAS C', 'AGUACHICA - AUT', 'VIVERO SURATA  - AUT',\n",
       "       'SARAVENA  - AUT', 'MEDINA - AUT', 'LEJANÍAS - AUT',\n",
       "       'DEMOSTRACION GRANJA  - AUT', 'MALAGA 2',\n",
       "       'UNIVERSIDAD DE LA SABANA - AUT', 'MERCEDES - AUT',\n",
       "       'AEROPUERTO FURATENA  - AUT', 'VETAS - AUT',\n",
       "       'UNIVERSIDAD UNAD CARTAGENA - AUT', 'GALERAZAMBA  - AUT',\n",
       "       'PIEDECUESTA GRANJA', 'ITUANGO - AUT', 'SABANA DE TORRES',\n",
       "       'VILLA DE LEIVA  - AUT', 'EL PARAMO - AUT', 'PLANETA RICA  - AUT',\n",
       "       'PLANADAS - AUT', 'TUNJA-U.P.T.C - AUT', 'ITA VALSALICE  - AUT',\n",
       "       'SIACHOQUE - AUT', 'VILLA INES  - AUT', 'IBAGUE - AUT', 'ACAPULCO',\n",
       "       'YACOPI  - AUT', 'JARDIN BOTANICO  - AUT', 'SOTAQUIRÁ - AUT',\n",
       "       'SUSA - AUT', 'GUADUALITO - AUT', 'ALGECIRAS - AUT',\n",
       "       'SAHAGUN - AUT', 'MAGUARE - AUT', 'PARAMO ALTO - AUT',\n",
       "       'UNIVERSIDAD DEL PACIFICO - AUT', 'ARAUCA TERMINAL - AUT',\n",
       "       'CAMPO HERMOSO - AUT', 'POTREROS - AUT', 'GUAICARAMO  - AUT',\n",
       "       'CANELOS  - AUT', 'NATAGA  - AUT', 'LAS BRISAS - AUT',\n",
       "       'POLIDEPORTIVO CACHIRA - AUT', 'ALTO DEL TRIGO - AUT',\n",
       "       'PARQUE ARQUEOLOGICO - AUT', 'ARBOLEDAS - AUT', 'BRASIL - AUT',\n",
       "       'EL CALVARIO - AUT', 'FLORIDABLANCA - AUT', 'CACHIRI  - AUT',\n",
       "       'VISTA HERMOSA - AUT', 'GRANADA SENA - AUT', 'ALTAQUER - AUT',\n",
       "       'CORRALITOS PULI', 'SANTA HELENA  - AUT',\n",
       "       'HACIENDA LA MESA  - AUT', 'UNIVERSIDAD SANTO TOMÁS  - AUT',\n",
       "       'CUCUNUBA - AUT', 'TABIO  - AUT', 'ACOMODO EL', 'EL SOCHE  - AUT',\n",
       "       'EL DESTINO  - AUT', 'LA ESMERALDA-  - AUT', 'EL OKAL  - AUT',\n",
       "       'IBERIA LA', 'MAJAGUAL', 'LA CUMBRE - AUT',\n",
       "       'BASE AEREA MELGAR - AUT', 'EL ESPINO - AUT', 'SALITRE  - AUT',\n",
       "       'MACHETA - CHIVOR', 'PAQUILO - AUT', 'RETIRO - AUT',\n",
       "       'EL VINCULO - AUT', 'NEVADO DEL COCUY - AUT',\n",
       "       'UNIVERSIDAD DE CUNDINAMARCA - AUT', 'VUELTA MALA', 'PASCA - AUT',\n",
       "       'TIBAITATA - AUT', 'SOGAMOSO - AUT', 'AQUITANIA - AUT',\n",
       "       'ZARAGOZA - AUT', 'VALLE ALTO  - AUT', 'SANTA EMILIA - AUT',\n",
       "       'PARAMO RABANAL - AUT', 'BELLAVISTA - JESUS MARIA - AUT',\n",
       "       'IDEAM BOGOTA  - AUT', 'EL JARDIN CUENCA ALTA RIO RISARALDA - AUT',\n",
       "       'CHINAVITA - AUT', 'SALENTO - AUT', 'SANTUARIO - AUT',\n",
       "       'UNIVERSIDAD NACIONAL  - AUT', 'LA RAMADA  - AUT', 'PIJAO - AUT',\n",
       "       'PARQUE SOPO  - AUT', 'SONSON', 'MERENGO  - AUT', 'TONA  - AUT',\n",
       "       'LA COSECHA - AUT', 'PUEBLO RICO  - AUT', 'TEATINOS - AUT',\n",
       "       'CHITA  - AUT', 'DUITAMA - AUT', 'PESCA - AUT', 'PANELAS - AUT',\n",
       "       'CORINTO - AUT', 'EL SILENCIO - AUT', 'GRANJA GUAYATA - AUT',\n",
       "       'MONGUA - AUT', 'LA SIERRA - AUT', 'GUACHACA - AUT',\n",
       "       'SANTA LUCIA - AUT', 'OJO DE AGUA  - AUT', 'PEDRO PALO  - AUT',\n",
       "       'NEGRETE  - AUT', 'HERRERA - AUT', 'NEVADO DEL TOLIMA  - AUT',\n",
       "       'GORGONA GUAPI', 'SAN FORTUNATO  - AUT', 'ALTO DEL AIRE  - AUT',\n",
       "       'EL TABLAZO - AUT', 'FARALLONES - AUT', 'LA PALOMERA - AUT',\n",
       "       'VILLA PINZON  - AUT', 'ICA VILLAVICENCIO  - AUT',\n",
       "       'PNN PURACE - AUT', 'REMOLINO ALERTAS - EL VOLCAN - AUT',\n",
       "       'TORIBIO ALERTAS   TORIBIO - AUT'], dtype=object)"
      ]
     },
     "execution_count": 7,
     "metadata": {},
     "output_type": "execute_result"
    }
   ],
   "source": [
    "df_pat.NombreEstacion.unique()"
   ]
  },
  {
   "cell_type": "code",
   "execution_count": null,
   "id": "875296a1",
   "metadata": {},
   "outputs": [],
   "source": [
    "df_pat.loc[df_pat.NombreEstacion.duplicated()]"
   ]
  },
  {
   "cell_type": "markdown",
   "id": "400bdde3",
   "metadata": {},
   "source": [
    "## Municipio"
   ]
  },
  {
   "cell_type": "code",
   "execution_count": 11,
   "id": "b739f37e",
   "metadata": {},
   "outputs": [
    {
     "name": "stdout",
     "output_type": "stream",
     "text": [
      "Coloque la palabra relacional de los municipios a ver: as\n"
     ]
    },
    {
     "data": {
      "text/plain": [
       "LEJANÍAS                342\n",
       "BARBACOAS               389\n",
       "CARCASÍ                1883\n",
       "VETAS                  1885\n",
       "GUADUAS                1888\n",
       "ARBOLEDAS              1892\n",
       "ALGECIRAS              1894\n",
       "PLANADAS               2173\n",
       "CARTAGENA DE INDIAS    3456\n",
       "PASCA                  5135\n",
       "Name: Municipio, dtype: int64"
      ]
     },
     "execution_count": 11,
     "metadata": {},
     "output_type": "execute_result"
    }
   ],
   "source": [
    "#filtro_letra = input('Coloque la letra inicial de los municipios a ver: ').upper()\n",
    "# Filtrando con solo la 1ra letra del nombre de la columna\n",
    "# df_pat[df_pat.Municipio.str.startswith(filtro_letra_inicial)].Municipio.value_counts().sort_values(ascending=True)\n",
    "\n",
    "# Ahora con 2 o más letras iniciales\n",
    "# df_pat[df_pat.Municipio.str.slice(stop=2) == filtro_letra].Municipio.value_counts().sort_values(ascending=True)\n",
    "\n",
    "# Hice la filtracion mediante letras y palabras para que se me facilite la busqueda de nombre casi igaules \n",
    "filtra_palabra = input('Coloque la palabra relacional de los municipios a ver: ').upper()\n",
    "df_pat[df_pat.Municipio.str.contains(filtra_palabra)].Municipio.value_counts().sort_values(ascending=True)"
   ]
  },
  {
   "cell_type": "markdown",
   "id": "870f9a09",
   "metadata": {},
   "source": [
    "## ZonaHidrografica"
   ]
  },
  {
   "cell_type": "code",
   "execution_count": 20,
   "id": "f5cb27e0",
   "metadata": {},
   "outputs": [
    {
     "data": {
      "text/plain": [
       "AMAZONAS - DIRECTOS                 42146\n",
       "ALTO MAGDALENA                      36717\n",
       "MEDIO MAGDALENA                     14649\n",
       "SOGAMOSO                            12789\n",
       "META                                10168\n",
       "CAUCA                                4436\n",
       "BAJO MAGDALENA- CAUCA -SAN JORGE     3477\n",
       "BAJO MAGDALENA                       2707\n",
       "ARAUCA                               2696\n",
       "ATRATO - DARIÉN                      1548\n",
       "CARIBE - GUAJIRA                     1530\n",
       "SALDAÑA                              1307\n",
       "CESAR                                1279\n",
       "CARIBE - LITORAL                     1276\n",
       "CATATUMBO                            1252\n",
       "SINÚ                                 1211\n",
       "SAN JUÁN                              975\n",
       "TAPAJE - DAGUA - DIRECTOS             934\n",
       "GUAVIARE                              737\n",
       "CASANARE                              729\n",
       "PACÍFICO - DIRECTOS                   728\n",
       "CAGUÁN                                646\n",
       "NECHÍ                                 600\n",
       "MIRA                                  487\n",
       "PATÍA                                 394\n",
       "ISLAS CARIBE                          388\n",
       "VICHADA                               184\n",
       "Name: ZonaHidrografica, dtype: int64"
      ]
     },
     "execution_count": 20,
     "metadata": {},
     "output_type": "execute_result"
    }
   ],
   "source": [
    "# Todo bien\n",
    "df_pat.ZonaHidrografica.value_counts()"
   ]
  },
  {
   "cell_type": "markdown",
   "id": "01b231e0",
   "metadata": {},
   "source": [
    "## Ahora en busqueda de valores NaN"
   ]
  },
  {
   "cell_type": "code",
   "execution_count": 27,
   "id": "acc95108",
   "metadata": {},
   "outputs": [
    {
     "data": {
      "text/plain": [
       "CodigoEstacion       0\n",
       "CodigoSensor         0\n",
       "FechaObservacion     0\n",
       "ValorObservado       0\n",
       "NombreEstacion       0\n",
       "Departamento         0\n",
       "Municipio            0\n",
       "ZonaHidrografica     0\n",
       "Latitud              0\n",
       "Longitud             0\n",
       "DescripcionSensor    0\n",
       "UnidadMedida         1\n",
       "Año                  0\n",
       "dtype: int64"
      ]
     },
     "execution_count": 27,
     "metadata": {},
     "output_type": "execute_result"
    }
   ],
   "source": [
    "df_pat.isna().sum()"
   ]
  },
  {
   "cell_type": "raw",
   "id": "29c3edc0",
   "metadata": {},
   "source": [
    "Podemos observar que la unica columna del dataframe con valores NaN es UnidadMedida, y con solo 1 valor NaN."
   ]
  },
  {
   "cell_type": "code",
   "execution_count": 28,
   "id": "77bd3f2b",
   "metadata": {},
   "outputs": [
    {
     "data": {
      "text/plain": [
       "HPa    403438\n",
       "Name: UnidadMedida, dtype: int64"
      ]
     },
     "execution_count": 28,
     "metadata": {},
     "output_type": "execute_result"
    }
   ],
   "source": [
    "# Aqui podemos ver que que el 99,9% de los valores de esa columna es HPa y un folojo se le olvido colocar ese valor.\n",
    "df_pat['UnidadMedida'].value_counts()"
   ]
  },
  {
   "cell_type": "code",
   "execution_count": 29,
   "id": "542a3894",
   "metadata": {},
   "outputs": [],
   "source": [
    "# Aqui hacemos el cambio de valor NaN, a HPa\n",
    "df_pat['UnidadMedida'].fillna('HPa', inplace=True)"
   ]
  },
  {
   "cell_type": "code",
   "execution_count": 30,
   "id": "0181fa6b",
   "metadata": {},
   "outputs": [
    {
     "data": {
      "text/plain": [
       "HPa    403439\n",
       "Name: UnidadMedida, dtype: int64"
      ]
     },
     "execution_count": 30,
     "metadata": {},
     "output_type": "execute_result"
    }
   ],
   "source": [
    "# Ahoro revisamos cuantos valores HPa hay y si, ahora hay un valor mas y esta completo\n",
    "df_pat['UnidadMedida'].value_counts()"
   ]
  },
  {
   "cell_type": "code",
   "execution_count": 31,
   "id": "9b78f390",
   "metadata": {},
   "outputs": [
    {
     "data": {
      "text/plain": [
       "CodigoEstacion       0\n",
       "CodigoSensor         0\n",
       "FechaObservacion     0\n",
       "ValorObservado       0\n",
       "NombreEstacion       0\n",
       "Departamento         0\n",
       "Municipio            0\n",
       "ZonaHidrografica     0\n",
       "Latitud              0\n",
       "Longitud             0\n",
       "DescripcionSensor    0\n",
       "UnidadMedida         0\n",
       "Año                  0\n",
       "dtype: int64"
      ]
     },
     "execution_count": 31,
     "metadata": {},
     "output_type": "execute_result"
    }
   ],
   "source": [
    "# Volvemos a revisar si aun hay valores NaN dentro del dataframe\n",
    "df_pat.isna().sum()"
   ]
  },
  {
   "cell_type": "raw",
   "id": "ad0f6449",
   "metadata": {},
   "source": [
    "¡Wuala! Ya no hay valores null , además, ya el dataset esta notiene valores redundantes, asi que esta\n",
    "limpio para trabajar."
   ]
  },
  {
   "cell_type": "code",
   "execution_count": 32,
   "id": "99e76853",
   "metadata": {},
   "outputs": [],
   "source": [
    "# Guardamos el dataset actualizado y creamos uno csv nuevo.\n",
    "df_pat.to_csv('Presion_atmoferica_limpio_2021.csv')"
   ]
  },
  {
   "cell_type": "code",
   "execution_count": null,
   "id": "e3b80eac",
   "metadata": {},
   "outputs": [],
   "source": []
  }
 ],
 "metadata": {
  "kernelspec": {
   "display_name": "Python 3 (ipykernel)",
   "language": "python",
   "name": "python3"
  },
  "language_info": {
   "codemirror_mode": {
    "name": "ipython",
    "version": 3
   },
   "file_extension": ".py",
   "mimetype": "text/x-python",
   "name": "python",
   "nbconvert_exporter": "python",
   "pygments_lexer": "ipython3",
   "version": "3.9.12"
  }
 },
 "nbformat": 4,
 "nbformat_minor": 5
}
